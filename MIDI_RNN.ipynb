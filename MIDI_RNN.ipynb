{
  "nbformat": 4,
  "nbformat_minor": 0,
  "metadata": {
    "colab": {
      "name": "MIDI_RNN (1).ipynb",
      "provenance": [],
      "collapsed_sections": [
        "qOSuKBkYIE7C"
      ],
      "toc_visible": true
    },
    "kernelspec": {
      "name": "python3",
      "display_name": "Python 3"
    },
    "accelerator": "GPU"
  },
  "cells": [
    {
      "cell_type": "code",
      "metadata": {
        "id": "-kVgsbS6TOv3"
      },
      "source": [
        "# For Google Colab\n",
        "# ! pip install fastai pretty_midi --upgrade\n",
        "# ! pip install torch==1.7.0+cu101 torchvision==0.8.1+cu101 torchaudio==0.7.0 -f https://download.pytorch.org/whl/torch_stable.html\n",
        "\n",
        "# ! git clone https://github.com/AndreyYashkin/MIDI-gen.git\n",
        "# % cd MIDI-gen"
      ],
      "execution_count": null,
      "outputs": []
    },
    {
      "cell_type": "code",
      "metadata": {
        "id": "-MOO2tbRTm1X"
      },
      "source": [
        "from fastai.vision.all import *\n",
        "from src.rnn_models import *\n",
        "from src.midi import generate_piano_roll, generate_rand_piano_roll, piano_roll_to_pretty_midi"
      ],
      "execution_count": 2,
      "outputs": []
    },
    {
      "cell_type": "code",
      "metadata": {
        "id": "_kk9urwWTtQq"
      },
      "source": [
        "bs = 128\n",
        "thresh = 0.5\n",
        "thresh_r = 0.2\n",
        "\n",
        "frequency = 4\n",
        "seq_length = 100\n",
        "\n",
        "notes_num = 88\n",
        "first_ch = 21\n",
        "last_ch = 108"
      ],
      "execution_count": 3,
      "outputs": []
    },
    {
      "cell_type": "markdown",
      "metadata": {
        "id": "CKQFCndIaW-i"
      },
      "source": [
        "# Getting data"
      ]
    },
    {
      "cell_type": "code",
      "metadata": {
        "id": "ndirLHHoFIEd"
      },
      "source": [
        "# ! rm -rf data"
      ],
      "execution_count": 4,
      "outputs": []
    },
    {
      "cell_type": "code",
      "metadata": {
        "id": "ksNfMY4OEJL7"
      },
      "source": [
        "import tarfile\n",
        "with tarfile.open('data.tar.gz', 'r:gz') as tf:\n",
        "  tf.extractall()"
      ],
      "execution_count": 4,
      "outputs": []
    },
    {
      "cell_type": "code",
      "metadata": {
        "colab": {
          "base_uri": "https://localhost:8080/"
        },
        "id": "W5kt_YhNEQeE",
        "outputId": "5ca69ea9-283f-4ce0-bab7-7a4ed2daba56"
      },
      "source": [
        "! ls data | wc -l"
      ],
      "execution_count": 9,
      "outputs": [
        {
          "output_type": "stream",
          "text": [
            "89494\n"
          ],
          "name": "stdout"
        }
      ]
    },
    {
      "cell_type": "code",
      "metadata": {
        "id": "5NRDbbgVwFDn"
      },
      "source": [
        "def label_func(x): \n",
        "  x = str(x)\n",
        "  one_hot = x[-4-notes_num:-4]\n",
        "  l = list()\n",
        "  for i in range(notes_num):\n",
        "    if one_hot[i] == '1':\n",
        "      l.append(first_ch + i)\n",
        "  return l"
      ],
      "execution_count": 5,
      "outputs": []
    },
    {
      "cell_type": "code",
      "metadata": {
        "id": "T6U9hcpBUoXP"
      },
      "source": [
        "def strict_acc(inp, targ, thresh=0.5, sigmoid=True):\n",
        "  \"Compute strict accuracy\"\n",
        "  # ignore NaN class\n",
        "  inp = inp[1:]\n",
        "  targ = targ[1:]\n",
        "  if sigmoid: inp = inp.sigmoid()\n",
        "  inp = (inp > thresh) == targ.bool()\n",
        "  #print(inp.shape)\n",
        "  flags, _ = torch.min(inp, dim = 1)\n",
        "  return flags.float().mean()\n",
        "\n",
        "def notes_IoU(inp, targ, thresh=0.5, sigmoid=True):\n",
        "  \"Compute Intersection over Union for predicted and true notes\"\n",
        "  if sigmoid: inp = inp.sigmoid()\n",
        "  inp = inp > thresh\n",
        "  targ = targ.bool()\n",
        "  intersection = torch.logical_and(inp, targ).float().sum(dim = 1)\n",
        "  union = torch.logical_or(inp, targ).float().sum(dim = 1)\n",
        "  IoU = intersection/union\n",
        "  # nan means that inp and targ are both have no notes. It is a correct prediction\n",
        "  # torch.nan_to_num will be introduced only in 1.8.0 :(\n",
        "  # return torch.nan_to_num(IoU, nan=1).mean() \n",
        "  IoU[IoU != IoU] = 1\n",
        "  return IoU.mean()"
      ],
      "execution_count": 6,
      "outputs": []
    },
    {
      "cell_type": "markdown",
      "metadata": {
        "id": "fRj0xTRcJBjU"
      },
      "source": [
        "# Naive approach"
      ]
    },
    {
      "cell_type": "code",
      "metadata": {
        "id": "VijHkLYQESzL"
      },
      "source": [
        "db = DataBlock(blocks = (ImageBlock(cls=PILImageBW), MultiCategoryBlock(add_na = False)), # add a NaN class for images with no notes\n",
        "                  get_items = get_image_files,\n",
        "                  splitter = RandomSplitter(seed = 42),\n",
        "                  get_y = label_func)\n",
        "\n",
        "dls = db.dataloaders('data', bs = bs)"
      ],
      "execution_count": 7,
      "outputs": []
    },
    {
      "cell_type": "code",
      "metadata": {
        "colab": {
          "base_uri": "https://localhost:8080/",
          "height": 575
        },
        "id": "n6aaNB7zEWLp",
        "outputId": "f0cd9bf9-e344-4aeb-ef79-4c46f149cba7"
      },
      "source": [
        "dls.show_batch(figsize=(10, 10))"
      ],
      "execution_count": null,
      "outputs": [
        {
          "output_type": "display_data",
          "data": {
            "image/png": "[encoded data removed]",
            "text/plain": [
              "<Figure size 720x720 with 9 Axes>"
            ]
          },
          "metadata": {
            "tags": [],
            "needs_background": "light"
          }
        }
      ]
    },
    {
      "cell_type": "code",
      "metadata": {
        "id": "NyFfYsk81tbq"
      },
      "source": [
        "model = SimpleMidiRNN(notes_num, seq_length, 2, False)\n",
        "learn = Learner(dls, model, loss_func = nn.BCEWithLogitsLoss(), metrics=[notes_IoU, strict_acc, accuracy_multi])"
      ],
      "execution_count": null,
      "outputs": []
    },
    {
      "cell_type": "code",
      "metadata": {
        "colab": {
          "base_uri": "https://localhost:8080/",
          "height": 238
        },
        "id": "z61nLCi24V4S",
        "outputId": "4d3a2923-d4af-48d8-ce9e-d9ba96deb000"
      },
      "source": [
        "learn.fit_one_cycle(6)"
      ],
      "execution_count": null,
      "outputs": [
        {
          "output_type": "display_data",
          "data": {
            "text/html": [
              "<table border=\"1\" class=\"dataframe\">\n",
              "  <thead>\n",
              "    <tr style=\"text-align: left;\">\n",
              "      <th>epoch</th>\n",
              "      <th>train_loss</th>\n",
              "      <th>valid_loss</th>\n",
              "      <th>notes_IoU</th>\n",
              "      <th>strict_acc</th>\n",
              "      <th>accuracy_multi</th>\n",
              "      <th>time</th>\n",
              "    </tr>\n",
              "  </thead>\n",
              "  <tbody>\n",
              "    <tr>\n",
              "      <td>0</td>\n",
              "      <td>0.233074</td>\n",
              "      <td>0.141471</td>\n",
              "      <td>0.180200</td>\n",
              "      <td>0.117581</td>\n",
              "      <td>0.963230</td>\n",
              "      <td>01:30</td>\n",
              "    </tr>\n",
              "    <tr>\n",
              "      <td>1</td>\n",
              "      <td>0.101496</td>\n",
              "      <td>0.086523</td>\n",
              "      <td>0.348148</td>\n",
              "      <td>0.155930</td>\n",
              "      <td>0.971860</td>\n",
              "      <td>01:28</td>\n",
              "    </tr>\n",
              "    <tr>\n",
              "      <td>2</td>\n",
              "      <td>0.091512</td>\n",
              "      <td>0.079225</td>\n",
              "      <td>0.432303</td>\n",
              "      <td>0.209878</td>\n",
              "      <td>0.975182</td>\n",
              "      <td>01:29</td>\n",
              "    </tr>\n",
              "    <tr>\n",
              "      <td>3</td>\n",
              "      <td>0.089986</td>\n",
              "      <td>0.078059</td>\n",
              "      <td>0.434226</td>\n",
              "      <td>0.217367</td>\n",
              "      <td>0.975475</td>\n",
              "      <td>01:29</td>\n",
              "    </tr>\n",
              "    <tr>\n",
              "      <td>4</td>\n",
              "      <td>0.088431</td>\n",
              "      <td>0.077131</td>\n",
              "      <td>0.451889</td>\n",
              "      <td>0.230657</td>\n",
              "      <td>0.976060</td>\n",
              "      <td>01:28</td>\n",
              "    </tr>\n",
              "    <tr>\n",
              "      <td>5</td>\n",
              "      <td>0.088337</td>\n",
              "      <td>0.076663</td>\n",
              "      <td>0.463303</td>\n",
              "      <td>0.241300</td>\n",
              "      <td>0.976428</td>\n",
              "      <td>01:28</td>\n",
              "    </tr>\n",
              "  </tbody>\n",
              "</table>"
            ],
            "text/plain": [
              "<IPython.core.display.HTML object>"
            ]
          },
          "metadata": {
            "tags": []
          }
        }
      ]
    },
    {
      "cell_type": "code",
      "metadata": {
        "colab": {
          "base_uri": "https://localhost:8080/"
        },
        "id": "PS7b9rjACjqm",
        "outputId": "b4de92b7-e378-4e36-f416-030a54877fa6"
      },
      "source": [
        "learn.save('gru-2')"
      ],
      "execution_count": null,
      "outputs": [
        {
          "output_type": "execute_result",
          "data": {
            "text/plain": [
              "Path('models/gru-2.pth')"
            ]
          },
          "metadata": {
            "tags": []
          },
          "execution_count": 37
        }
      ]
    },
    {
      "cell_type": "code",
      "metadata": {
        "id": "c7rqHpLUjbMT"
      },
      "source": [
        "model = SimpleMidiRNN(notes_num, seq_length, 2, True)\n",
        "learn = Learner(dls, model, loss_func = nn.BCEWithLogitsLoss(), metrics=[notes_IoU, strict_acc, accuracy_multi])"
      ],
      "execution_count": null,
      "outputs": []
    },
    {
      "cell_type": "code",
      "metadata": {
        "id": "QrdZ_Pv8jd6G",
        "colab": {
          "base_uri": "https://localhost:8080/",
          "height": 238
        },
        "outputId": "b05c8faf-caae-4bc2-c4a7-7f23202475f3"
      },
      "source": [
        "learn.fit_one_cycle(6)"
      ],
      "execution_count": null,
      "outputs": [
        {
          "output_type": "display_data",
          "data": {
            "text/html": [
              "<table border=\"1\" class=\"dataframe\">\n",
              "  <thead>\n",
              "    <tr style=\"text-align: left;\">\n",
              "      <th>epoch</th>\n",
              "      <th>train_loss</th>\n",
              "      <th>valid_loss</th>\n",
              "      <th>notes_IoU</th>\n",
              "      <th>strict_acc</th>\n",
              "      <th>accuracy_multi</th>\n",
              "      <th>time</th>\n",
              "    </tr>\n",
              "  </thead>\n",
              "  <tbody>\n",
              "    <tr>\n",
              "      <td>0</td>\n",
              "      <td>0.161849</td>\n",
              "      <td>0.100797</td>\n",
              "      <td>0.291230</td>\n",
              "      <td>0.130195</td>\n",
              "      <td>0.969434</td>\n",
              "      <td>01:33</td>\n",
              "    </tr>\n",
              "    <tr>\n",
              "      <td>1</td>\n",
              "      <td>0.089382</td>\n",
              "      <td>0.077186</td>\n",
              "      <td>0.462495</td>\n",
              "      <td>0.240343</td>\n",
              "      <td>0.976249</td>\n",
              "      <td>01:34</td>\n",
              "    </tr>\n",
              "    <tr>\n",
              "      <td>2</td>\n",
              "      <td>0.083620</td>\n",
              "      <td>0.075109</td>\n",
              "      <td>0.494057</td>\n",
              "      <td>0.271427</td>\n",
              "      <td>0.977402</td>\n",
              "      <td>01:34</td>\n",
              "    </tr>\n",
              "    <tr>\n",
              "      <td>3</td>\n",
              "      <td>0.081008</td>\n",
              "      <td>0.074099</td>\n",
              "      <td>0.506629</td>\n",
              "      <td>0.285843</td>\n",
              "      <td>0.977903</td>\n",
              "      <td>01:34</td>\n",
              "    </tr>\n",
              "    <tr>\n",
              "      <td>4</td>\n",
              "      <td>0.081112</td>\n",
              "      <td>0.073677</td>\n",
              "      <td>0.510124</td>\n",
              "      <td>0.293558</td>\n",
              "      <td>0.978127</td>\n",
              "      <td>01:36</td>\n",
              "    </tr>\n",
              "    <tr>\n",
              "      <td>5</td>\n",
              "      <td>0.080171</td>\n",
              "      <td>0.073565</td>\n",
              "      <td>0.515230</td>\n",
              "      <td>0.297950</td>\n",
              "      <td>0.978210</td>\n",
              "      <td>01:36</td>\n",
              "    </tr>\n",
              "  </tbody>\n",
              "</table>"
            ],
            "text/plain": [
              "<IPython.core.display.HTML object>"
            ]
          },
          "metadata": {
            "tags": []
          }
        }
      ]
    },
    {
      "cell_type": "code",
      "metadata": {
        "id": "IcjbZyf5je9J",
        "colab": {
          "base_uri": "https://localhost:8080/"
        },
        "outputId": "1e39c7d6-e57e-4bc8-e10f-da8dc5046419"
      },
      "source": [
        "learn.save('gru-2-bi')"
      ],
      "execution_count": null,
      "outputs": [
        {
          "output_type": "execute_result",
          "data": {
            "text/plain": [
              "Path('models/gru-2-bi.pth')"
            ]
          },
          "metadata": {
            "tags": []
          },
          "execution_count": 40
        }
      ]
    },
    {
      "cell_type": "markdown",
      "metadata": {
        "id": "qOSuKBkYIE7C"
      },
      "source": [
        "# IoU loss"
      ]
    },
    {
      "cell_type": "markdown",
      "metadata": {
        "id": "JANCuAwGJTzX"
      },
      "source": [
        "Let's try to change loss function"
      ]
    },
    {
      "cell_type": "code",
      "metadata": {
        "id": "PCWDR6btO1P3"
      },
      "source": [
        "def jaccard_index(output, target):\n",
        "  output = output.sigmoid()\n",
        "  intersection_s = (output * target).sum(dim = 1)\n",
        "  output_s = output.sum(dim = 1)\n",
        "  target_s = target.sum(dim = 1)\n",
        "  return (intersection_s/(output_s + target_s - intersection_s)).mean()\n",
        "\n",
        "def jaccard_distance(output, target):\n",
        "  return 1 - jaccard_index(output, target)"
      ],
      "execution_count": 8,
      "outputs": []
    },
    {
      "cell_type": "code",
      "metadata": {
        "id": "5YGRUb_jEivB"
      },
      "source": [
        "db_na = DataBlock(blocks = (ImageBlock(cls=PILImageBW), MultiCategoryBlock(add_na = True)), # add a NaN class for images with no notes\n",
        "                  get_items = get_image_files,\n",
        "                  splitter = RandomSplitter(seed = 42),\n",
        "                  get_y = label_func)\n",
        "\n",
        "dls_na = db_na.dataloaders('data', bs = bs)"
      ],
      "execution_count": null,
      "outputs": []
    },
    {
      "cell_type": "code",
      "metadata": {
        "colab": {
          "base_uri": "https://localhost:8080/"
        },
        "id": "FnPZFoDLEanX",
        "outputId": "22fbb313-a689-48b3-ad28-612320be28f8"
      },
      "source": [
        "dls_na.vocab"
      ],
      "execution_count": null,
      "outputs": [
        {
          "output_type": "execute_result",
          "data": {
            "text/plain": [
              "['#na#', 21, 22, 23, 24, 25, 26, 27, 28, 29, 30, 31, 32, 33, 34, 35, 36, 37, 38, 39, 40, 41, 42, 43, 44, 45, 46, 47, 48, 49, 50, 51, 52, 53, 54, 55, 56, 57, 58, 59, 60, 61, 62, 63, 64, 65, 66, 67, 68, 69, 70, 71, 72, 73, 74, 75, 76, 77, 78, 79, 80, 81, 82, 83, 84, 85, 86, 87, 88, 89, 90, 91, 92, 93, 94, 95, 96, 97, 98, 99, 100, 101, 102, 103, 104, 105, 106, 107, 108]"
            ]
          },
          "metadata": {
            "tags": []
          },
          "execution_count": 45
        }
      ]
    },
    {
      "cell_type": "code",
      "metadata": {
        "id": "mc7I4uTkiYmo"
      },
      "source": [
        "model = SimpleMidiRNN(notes_num, seq_length, 2, False, nan_class = True)\n",
        "learn = Learner(dls_na, model, loss_func = jaccard_distance, metrics=[notes_IoU, strict_acc])"
      ],
      "execution_count": null,
      "outputs": []
    },
    {
      "cell_type": "code",
      "metadata": {
        "colab": {
          "base_uri": "https://localhost:8080/",
          "height": 238
        },
        "id": "suKy3CCjjioh",
        "outputId": "5c1dd2c2-d003-4cf3-9014-e970d8bb5841"
      },
      "source": [
        "learn.fit_one_cycle(6)"
      ],
      "execution_count": null,
      "outputs": [
        {
          "output_type": "display_data",
          "data": {
            "text/html": [
              "<table border=\"1\" class=\"dataframe\">\n",
              "  <thead>\n",
              "    <tr style=\"text-align: left;\">\n",
              "      <th>epoch</th>\n",
              "      <th>train_loss</th>\n",
              "      <th>valid_loss</th>\n",
              "      <th>notes_IoU</th>\n",
              "      <th>strict_acc</th>\n",
              "      <th>time</th>\n",
              "    </tr>\n",
              "  </thead>\n",
              "  <tbody>\n",
              "    <tr>\n",
              "      <td>0</td>\n",
              "      <td>0.880292</td>\n",
              "      <td>0.839706</td>\n",
              "      <td>0.265502</td>\n",
              "      <td>0.021962</td>\n",
              "      <td>01:31</td>\n",
              "    </tr>\n",
              "    <tr>\n",
              "      <td>1</td>\n",
              "      <td>0.640837</td>\n",
              "      <td>0.558822</td>\n",
              "      <td>0.519649</td>\n",
              "      <td>0.263881</td>\n",
              "      <td>01:32</td>\n",
              "    </tr>\n",
              "    <tr>\n",
              "      <td>2</td>\n",
              "      <td>0.594422</td>\n",
              "      <td>0.541773</td>\n",
              "      <td>0.524137</td>\n",
              "      <td>0.270188</td>\n",
              "      <td>01:33</td>\n",
              "    </tr>\n",
              "    <tr>\n",
              "      <td>3</td>\n",
              "      <td>0.582349</td>\n",
              "      <td>0.539601</td>\n",
              "      <td>0.524159</td>\n",
              "      <td>0.270357</td>\n",
              "      <td>01:34</td>\n",
              "    </tr>\n",
              "    <tr>\n",
              "      <td>4</td>\n",
              "      <td>0.582438</td>\n",
              "      <td>0.539197</td>\n",
              "      <td>0.524234</td>\n",
              "      <td>0.270413</td>\n",
              "      <td>01:33</td>\n",
              "    </tr>\n",
              "    <tr>\n",
              "      <td>5</td>\n",
              "      <td>0.579203</td>\n",
              "      <td>0.539105</td>\n",
              "      <td>0.524242</td>\n",
              "      <td>0.270413</td>\n",
              "      <td>01:35</td>\n",
              "    </tr>\n",
              "  </tbody>\n",
              "</table>"
            ],
            "text/plain": [
              "<IPython.core.display.HTML object>"
            ]
          },
          "metadata": {
            "tags": []
          }
        }
      ]
    },
    {
      "cell_type": "code",
      "metadata": {
        "colab": {
          "base_uri": "https://localhost:8080/"
        },
        "id": "_PEm7367OTK4",
        "outputId": "07c69a83-3d10-4adb-d271-c28a7c611086"
      },
      "source": [
        "learn.save('gru-2-jaccard')"
      ],
      "execution_count": null,
      "outputs": [
        {
          "output_type": "execute_result",
          "data": {
            "text/plain": [
              "Path('models/gru-2-jaccard.pth')"
            ]
          },
          "metadata": {
            "tags": []
          },
          "execution_count": 50
        }
      ]
    },
    {
      "cell_type": "markdown",
      "metadata": {
        "id": "G1zT89z4OhL7"
      },
      "source": [
        "No dramatic difference"
      ]
    },
    {
      "cell_type": "markdown",
      "metadata": {
        "id": "D5bk38roiiWK"
      },
      "source": [
        "# Model with a couple conv layers"
      ]
    },
    {
      "cell_type": "code",
      "metadata": {
        "id": "sqmKtXAwVwC2"
      },
      "source": [
        "model = ConvMidiRNN(seq_length, notes_num)\n",
        "learn = Learner(dls, model, loss_func = nn.BCEWithLogitsLoss(), metrics=[notes_IoU, strict_acc, accuracy_multi])"
      ],
      "execution_count": 8,
      "outputs": []
    },
    {
      "cell_type": "code",
      "metadata": {
        "colab": {
          "base_uri": "https://localhost:8080/",
          "height": 426
        },
        "id": "chHOdug43HDn",
        "outputId": "07ce0ee8-da0e-4667-98f5-eda57716ffa1"
      },
      "source": [
        "learn.fit_one_cycle(12)"
      ],
      "execution_count": null,
      "outputs": [
        {
          "output_type": "display_data",
          "data": {
            "text/html": [
              "<table border=\"1\" class=\"dataframe\">\n",
              "  <thead>\n",
              "    <tr style=\"text-align: left;\">\n",
              "      <th>epoch</th>\n",
              "      <th>train_loss</th>\n",
              "      <th>valid_loss</th>\n",
              "      <th>notes_IoU</th>\n",
              "      <th>strict_acc</th>\n",
              "      <th>accuracy_multi</th>\n",
              "      <th>time</th>\n",
              "    </tr>\n",
              "  </thead>\n",
              "  <tbody>\n",
              "    <tr>\n",
              "      <td>0</td>\n",
              "      <td>0.492885</td>\n",
              "      <td>0.386254</td>\n",
              "      <td>0.447938</td>\n",
              "      <td>0.154185</td>\n",
              "      <td>0.963498</td>\n",
              "      <td>01:38</td>\n",
              "    </tr>\n",
              "    <tr>\n",
              "      <td>1</td>\n",
              "      <td>0.101752</td>\n",
              "      <td>0.083762</td>\n",
              "      <td>0.410185</td>\n",
              "      <td>0.180652</td>\n",
              "      <td>0.973242</td>\n",
              "      <td>01:37</td>\n",
              "    </tr>\n",
              "    <tr>\n",
              "      <td>2</td>\n",
              "      <td>0.089103</td>\n",
              "      <td>0.077503</td>\n",
              "      <td>0.462078</td>\n",
              "      <td>0.224575</td>\n",
              "      <td>0.975205</td>\n",
              "      <td>01:37</td>\n",
              "    </tr>\n",
              "    <tr>\n",
              "      <td>3</td>\n",
              "      <td>0.084188</td>\n",
              "      <td>0.075235</td>\n",
              "      <td>0.481822</td>\n",
              "      <td>0.244453</td>\n",
              "      <td>0.976369</td>\n",
              "      <td>01:40</td>\n",
              "    </tr>\n",
              "    <tr>\n",
              "      <td>4</td>\n",
              "      <td>0.080846</td>\n",
              "      <td>0.073257</td>\n",
              "      <td>0.500892</td>\n",
              "      <td>0.273961</td>\n",
              "      <td>0.977795</td>\n",
              "      <td>01:38</td>\n",
              "    </tr>\n",
              "    <tr>\n",
              "      <td>5</td>\n",
              "      <td>0.078197</td>\n",
              "      <td>0.072025</td>\n",
              "      <td>0.503372</td>\n",
              "      <td>0.287758</td>\n",
              "      <td>0.978346</td>\n",
              "      <td>01:38</td>\n",
              "    </tr>\n",
              "    <tr>\n",
              "      <td>6</td>\n",
              "      <td>0.078096</td>\n",
              "      <td>0.071064</td>\n",
              "      <td>0.511895</td>\n",
              "      <td>0.298513</td>\n",
              "      <td>0.978630</td>\n",
              "      <td>01:37</td>\n",
              "    </tr>\n",
              "    <tr>\n",
              "      <td>7</td>\n",
              "      <td>0.075406</td>\n",
              "      <td>0.070613</td>\n",
              "      <td>0.522753</td>\n",
              "      <td>0.311578</td>\n",
              "      <td>0.978981</td>\n",
              "      <td>01:36</td>\n",
              "    </tr>\n",
              "    <tr>\n",
              "      <td>8</td>\n",
              "      <td>0.074680</td>\n",
              "      <td>0.070099</td>\n",
              "      <td>0.516112</td>\n",
              "      <td>0.311240</td>\n",
              "      <td>0.978983</td>\n",
              "      <td>01:37</td>\n",
              "    </tr>\n",
              "    <tr>\n",
              "      <td>9</td>\n",
              "      <td>0.073395</td>\n",
              "      <td>0.069959</td>\n",
              "      <td>0.513847</td>\n",
              "      <td>0.311353</td>\n",
              "      <td>0.978988</td>\n",
              "      <td>01:37</td>\n",
              "    </tr>\n",
              "    <tr>\n",
              "      <td>10</td>\n",
              "      <td>0.073729</td>\n",
              "      <td>0.069814</td>\n",
              "      <td>0.519151</td>\n",
              "      <td>0.315632</td>\n",
              "      <td>0.979110</td>\n",
              "      <td>01:38</td>\n",
              "    </tr>\n",
              "    <tr>\n",
              "      <td>11</td>\n",
              "      <td>0.072570</td>\n",
              "      <td>0.069778</td>\n",
              "      <td>0.523095</td>\n",
              "      <td>0.319236</td>\n",
              "      <td>0.979185</td>\n",
              "      <td>01:41</td>\n",
              "    </tr>\n",
              "  </tbody>\n",
              "</table>"
            ],
            "text/plain": [
              "<IPython.core.display.HTML object>"
            ]
          },
          "metadata": {
            "tags": []
          }
        }
      ]
    },
    {
      "cell_type": "code",
      "metadata": {
        "id": "Jq-OlQF3DoGC",
        "colab": {
          "base_uri": "https://localhost:8080/"
        },
        "outputId": "7c8eff53-df78-405f-eb9f-97bd5c2cfae5"
      },
      "source": [
        "learn.save('ConvMidiRNN')"
      ],
      "execution_count": null,
      "outputs": [
        {
          "output_type": "execute_result",
          "data": {
            "text/plain": [
              "Path('models/ConvMidiRNN.pth')"
            ]
          },
          "metadata": {
            "tags": []
          },
          "execution_count": 69
        }
      ]
    },
    {
      "cell_type": "markdown",
      "metadata": {
        "id": "TuFowZXv5ewI"
      },
      "source": [
        "# Piano roll generation examples"
      ]
    },
    {
      "cell_type": "code",
      "metadata": {
        "colab": {
          "base_uri": "https://localhost:8080/"
        },
        "id": "7N-JowDGSEWN",
        "outputId": "3719786d-e252-4881-b62c-fa262c09b50e"
      },
      "source": [
        "learn.load('ConvMidiRNN')"
      ],
      "execution_count": 9,
      "outputs": [
        {
          "output_type": "execute_result",
          "data": {
            "text/plain": [
              "<fastai.learner.Learner at 0x7f8b38989cc0>"
            ]
          },
          "metadata": {
            "tags": []
          },
          "execution_count": 9
        }
      ]
    },
    {
      "cell_type": "code",
      "metadata": {
        "id": "hviJLTwqtYRU"
      },
      "source": [
        "model = model.eval()"
      ],
      "execution_count": 10,
      "outputs": []
    },
    {
      "cell_type": "markdown",
      "metadata": {
        "id": "4qqX0Ek6VTKo"
      },
      "source": [
        "Deterministic"
      ]
    },
    {
      "cell_type": "code",
      "metadata": {
        "colab": {
          "base_uri": "https://localhost:8080/",
          "height": 294
        },
        "id": "nj-BPfK_VSfx",
        "outputId": "4e721c7d-f5cb-4dbc-ecfb-a3f1f7a75f59"
      },
      "source": [
        "roll = generate_piano_roll(model.cpu(), seq_length, dls.valid_ds[7][0], 100, thresh)\n",
        "roll.show(figsize=(10, 10))"
      ],
      "execution_count": 13,
      "outputs": [
        {
          "output_type": "execute_result",
          "data": {
            "text/plain": [
              "<matplotlib.axes._subplots.AxesSubplot at 0x7feb9d21cb70>"
            ]
          },
          "metadata": {
            "tags": []
          },
          "execution_count": 13
        },
        {
          "output_type": "display_data",
          "data": {
            "image/png": "[encoded data removed]",
            "text/plain": [
              "<Figure size 720x720 with 1 Axes>"
            ]
          },
          "metadata": {
            "tags": [],
            "needs_background": "light"
          }
        }
      ]
    },
    {
      "cell_type": "code",
      "metadata": {
        "colab": {
          "base_uri": "https://localhost:8080/",
          "height": 294
        },
        "id": "LBMBZw7iKUmE",
        "outputId": "c21eb306-9a80-454e-8333-4051f54fa2d1"
      },
      "source": [
        "roll = generate_piano_roll(model.cpu(), seq_length, dls.valid_ds[12][0], 100, thresh)\n",
        "roll.show(figsize=(10, 10))"
      ],
      "execution_count": null,
      "outputs": [
        {
          "output_type": "execute_result",
          "data": {
            "text/plain": [
              "<matplotlib.axes._subplots.AxesSubplot at 0x7fa1695a6b70>"
            ]
          },
          "metadata": {
            "tags": []
          },
          "execution_count": 70
        },
        {
          "output_type": "display_data",
          "data": {
            "image/png": "[encoded data removed]",
            "text/plain": [
              "<Figure size 720x720 with 1 Axes>"
            ]
          },
          "metadata": {
            "tags": [],
            "needs_background": "light"
          }
        }
      ]
    },
    {
      "cell_type": "markdown",
      "metadata": {
        "id": "5JH8bLRqVgZa"
      },
      "source": [
        "Randomized"
      ]
    },
    {
      "cell_type": "code",
      "metadata": {
        "colab": {
          "base_uri": "https://localhost:8080/",
          "height": 294
        },
        "id": "h2CtZuYg22gi",
        "outputId": "848f595a-93f4-4e20-cdae-24a26d736c65"
      },
      "source": [
        "roll = generate_rand_piano_roll(model.cpu(), seq_length, dls.valid_ds[7][0], 100)\n",
        "roll.show(figsize=(10, 10))"
      ],
      "execution_count": null,
      "outputs": [
        {
          "output_type": "execute_result",
          "data": {
            "text/plain": [
              "<matplotlib.axes._subplots.AxesSubplot at 0x7fa12964ca20>"
            ]
          },
          "metadata": {
            "tags": []
          },
          "execution_count": 105
        },
        {
          "output_type": "display_data",
          "data": {
            "image/png": "[encoded data removed]",
            "text/plain": [
              "<Figure size 720x720 with 1 Axes>"
            ]
          },
          "metadata": {
            "tags": [],
            "needs_background": "light"
          }
        }
      ]
    },
    {
      "cell_type": "code",
      "metadata": {
        "colab": {
          "base_uri": "https://localhost:8080/",
          "height": 294
        },
        "id": "kB7XK1_6ViRZ",
        "outputId": "03601ef0-ffd3-498b-9552-2db2d8235fcf"
      },
      "source": [
        "roll = generate_rand_piano_roll(model.cpu(), seq_length, dls.valid_ds[12][0], 100)\n",
        "roll.show(figsize=(10, 10))"
      ],
      "execution_count": null,
      "outputs": [
        {
          "output_type": "execute_result",
          "data": {
            "text/plain": [
              "<matplotlib.axes._subplots.AxesSubplot at 0x7fa12971b630>"
            ]
          },
          "metadata": {
            "tags": []
          },
          "execution_count": 103
        },
        {
          "output_type": "display_data",
          "data": {
            "image/png": "[encoded data removed]",
            "text/plain": [
              "<Figure size 720x720 with 1 Axes>"
            ]
          },
          "metadata": {
            "tags": [],
            "needs_background": "light"
          }
        }
      ]
    },
    {
      "cell_type": "code",
      "metadata": {
        "colab": {
          "base_uri": "https://localhost:8080/",
          "height": 294
        },
        "id": "bZiNnKXtW25E",
        "outputId": "b6271f27-cd0a-4a06-db91-d6039274f265"
      },
      "source": [
        "roll = generate_rand_piano_roll(model.cpu(), seq_length, dls.valid_ds[17][0], 100)\n",
        "roll.show(figsize=(10, 10))"
      ],
      "execution_count": null,
      "outputs": [
        {
          "output_type": "execute_result",
          "data": {
            "text/plain": [
              "<matplotlib.axes._subplots.AxesSubplot at 0x7fa1297e9278>"
            ]
          },
          "metadata": {
            "tags": []
          },
          "execution_count": 101
        },
        {
          "output_type": "display_data",
          "data": {
            "image/png": "[encoded data removed]",
            "text/plain": [
              "<Figure size 720x720 with 1 Axes>"
            ]
          },
          "metadata": {
            "tags": [],
            "needs_background": "light"
          }
        }
      ]
    },
    {
      "cell_type": "code",
      "metadata": {
        "id": "FLt34wsli19f"
      },
      "source": [
        "! python3 gen.py data/2014_MIDI-UNPROCESSED_16-18_R1_2014_MID--AUDIO_16_R1_2014_wav--2.midi_[1560,1660]___0000000000000000000000000000001000010100010010000000000000000000000000000000000000000000.png example_1.mid 100"
      ],
      "execution_count": 13,
      "outputs": []
    },
    {
      "cell_type": "code",
      "metadata": {
        "id": "yAu6FUHrwJH_"
      },
      "source": [
        "! python3 gen.py data/2017_MIDI-Unprocessed_047_PIANO047_MID--AUDIO-split_07-06-17_Piano-e_2-04_wav--1.midi_[520,620]___0000000000000000000000000000000000000010010000100000000000000000000000000000000000000000.png example_2.mid 100"
      ],
      "execution_count": 14,
      "outputs": []
    },
    {
      "cell_type": "code",
      "metadata": {
        "id": "IEDloxKxwKAp"
      },
      "source": [
        "! python3 gen.py data/2015_MIDI-Unprocessed_R1_D1-9-12_mid--AUDIO-from_mp3_12_R1_2015_wav--5.midi_[920,1020]___0000000000000000000000000000000000000000000000000000000000000000000000010000000000000000.png example_3.mid 100"
      ],
      "execution_count": 15,
      "outputs": []
    },
    {
      "cell_type": "code",
      "metadata": {
        "id": "QNEDGfGbwFSa"
      },
      "source": [
        "! python3 gen.py data/2006_MIDI-Unprocessed_03_R1_2006_01-05_ORIG_MID--AUDIO_03_R1_2006_04_Track04_wav.midi_[380,480]___0000000000000000000000000000000000000000000000000000000000000000000000000000000000000000.png example_4.mid 100"
      ],
      "execution_count": 16,
      "outputs": []
    },
    {
      "cell_type": "code",
      "metadata": {
        "id": "8Cibjgj7w8ME"
      },
      "source": [
        "! python3 gen.py data/2006_MIDI-Unprocessed_01_R1_2006_01-09_ORIG_MID--AUDIO_01_R1_2006_01_Track01_wav.midi_[6740,6840]___0000000000000000000000000000000000000110010000000110010000000000000000000000000000000000.png example_5.mid 100"
      ],
      "execution_count": 18,
      "outputs": []
    }
  ]
}