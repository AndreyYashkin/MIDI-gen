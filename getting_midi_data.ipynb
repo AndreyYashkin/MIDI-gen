{
  "nbformat": 4,
  "nbformat_minor": 0,
  "metadata": {
    "colab": {
      "name": "Копия блокнота \"getting_MIDI_data.ipynb\"",
      "provenance": [],
      "collapsed_sections": [
        "0W_SDxEyQrQ9",
        "7u-8l_7Ijkqh"
      ],
      "toc_visible": true
    },
    "kernelspec": {
      "name": "python3",
      "display_name": "Python 3"
    },
    "widgets": {
      "application/vnd.jupyter.widget-state+json": {
        "d7984ef5eb0b4b04beac5d9334ff6d4d": {
          "model_module": "@jupyter-widgets/controls",
          "model_name": "HBoxModel",
          "state": {
            "_view_name": "HBoxView",
            "_dom_classes": [],
            "_model_name": "HBoxModel",
            "_view_module": "@jupyter-widgets/controls",
            "_model_module_version": "1.5.0",
            "_view_count": null,
            "_view_module_version": "1.5.0",
            "box_style": "",
            "layout": "IPY_MODEL_6d8578582bd246588e54b9f6b5746b10",
            "_model_module": "@jupyter-widgets/controls",
            "children": [
              "IPY_MODEL_d47f1f355cfd4a7287882357348c5455",
              "IPY_MODEL_3039d7445a9e4291a441aadb6e1c8687"
            ]
          }
        },
        "6d8578582bd246588e54b9f6b5746b10": {
          "model_module": "@jupyter-widgets/base",
          "model_name": "LayoutModel",
          "state": {
            "_view_name": "LayoutView",
            "grid_template_rows": null,
            "right": null,
            "justify_content": null,
            "_view_module": "@jupyter-widgets/base",
            "overflow": null,
            "_model_module_version": "1.2.0",
            "_view_count": null,
            "flex_flow": null,
            "width": null,
            "min_width": null,
            "border": null,
            "align_items": null,
            "bottom": null,
            "_model_module": "@jupyter-widgets/base",
            "top": null,
            "grid_column": null,
            "overflow_y": null,
            "overflow_x": null,
            "grid_auto_flow": null,
            "grid_area": null,
            "grid_template_columns": null,
            "flex": null,
            "_model_name": "LayoutModel",
            "justify_items": null,
            "grid_row": null,
            "max_height": null,
            "align_content": null,
            "visibility": null,
            "align_self": null,
            "height": null,
            "min_height": null,
            "padding": null,
            "grid_auto_rows": null,
            "grid_gap": null,
            "max_width": null,
            "order": null,
            "_view_module_version": "1.2.0",
            "grid_template_areas": null,
            "object_position": null,
            "object_fit": null,
            "grid_auto_columns": null,
            "margin": null,
            "display": null,
            "left": null
          }
        },
        "d47f1f355cfd4a7287882357348c5455": {
          "model_module": "@jupyter-widgets/controls",
          "model_name": "FloatProgressModel",
          "state": {
            "_view_name": "ProgressView",
            "style": "IPY_MODEL_e1254df327df4fc09c985b83302fa512",
            "_dom_classes": [],
            "description": "100%",
            "_model_name": "FloatProgressModel",
            "bar_style": "success",
            "max": 854,
            "_view_module": "@jupyter-widgets/controls",
            "_model_module_version": "1.5.0",
            "value": 854,
            "_view_count": null,
            "_view_module_version": "1.5.0",
            "orientation": "horizontal",
            "min": 0,
            "description_tooltip": null,
            "_model_module": "@jupyter-widgets/controls",
            "layout": "IPY_MODEL_f7ceaf9a6bdd441987ec7ff061ea2c64"
          }
        },
        "3039d7445a9e4291a441aadb6e1c8687": {
          "model_module": "@jupyter-widgets/controls",
          "model_name": "HTMLModel",
          "state": {
            "_view_name": "HTMLView",
            "style": "IPY_MODEL_68e282f024d541d28c24bb95a95b33c8",
            "_dom_classes": [],
            "description": "",
            "_model_name": "HTMLModel",
            "placeholder": "​",
            "_view_module": "@jupyter-widgets/controls",
            "_model_module_version": "1.5.0",
            "value": " 854/854 [04:46&lt;00:00,  2.98it/s]",
            "_view_count": null,
            "_view_module_version": "1.5.0",
            "description_tooltip": null,
            "_model_module": "@jupyter-widgets/controls",
            "layout": "IPY_MODEL_010b69a5b672419d97585d03f87266ee"
          }
        },
        "e1254df327df4fc09c985b83302fa512": {
          "model_module": "@jupyter-widgets/controls",
          "model_name": "ProgressStyleModel",
          "state": {
            "_view_name": "StyleView",
            "_model_name": "ProgressStyleModel",
            "description_width": "initial",
            "_view_module": "@jupyter-widgets/base",
            "_model_module_version": "1.5.0",
            "_view_count": null,
            "_view_module_version": "1.2.0",
            "bar_color": null,
            "_model_module": "@jupyter-widgets/controls"
          }
        },
        "f7ceaf9a6bdd441987ec7ff061ea2c64": {
          "model_module": "@jupyter-widgets/base",
          "model_name": "LayoutModel",
          "state": {
            "_view_name": "LayoutView",
            "grid_template_rows": null,
            "right": null,
            "justify_content": null,
            "_view_module": "@jupyter-widgets/base",
            "overflow": null,
            "_model_module_version": "1.2.0",
            "_view_count": null,
            "flex_flow": null,
            "width": null,
            "min_width": null,
            "border": null,
            "align_items": null,
            "bottom": null,
            "_model_module": "@jupyter-widgets/base",
            "top": null,
            "grid_column": null,
            "overflow_y": null,
            "overflow_x": null,
            "grid_auto_flow": null,
            "grid_area": null,
            "grid_template_columns": null,
            "flex": null,
            "_model_name": "LayoutModel",
            "justify_items": null,
            "grid_row": null,
            "max_height": null,
            "align_content": null,
            "visibility": null,
            "align_self": null,
            "height": null,
            "min_height": null,
            "padding": null,
            "grid_auto_rows": null,
            "grid_gap": null,
            "max_width": null,
            "order": null,
            "_view_module_version": "1.2.0",
            "grid_template_areas": null,
            "object_position": null,
            "object_fit": null,
            "grid_auto_columns": null,
            "margin": null,
            "display": null,
            "left": null
          }
        },
        "68e282f024d541d28c24bb95a95b33c8": {
          "model_module": "@jupyter-widgets/controls",
          "model_name": "DescriptionStyleModel",
          "state": {
            "_view_name": "StyleView",
            "_model_name": "DescriptionStyleModel",
            "description_width": "",
            "_view_module": "@jupyter-widgets/base",
            "_model_module_version": "1.5.0",
            "_view_count": null,
            "_view_module_version": "1.2.0",
            "_model_module": "@jupyter-widgets/controls"
          }
        },
        "010b69a5b672419d97585d03f87266ee": {
          "model_module": "@jupyter-widgets/base",
          "model_name": "LayoutModel",
          "state": {
            "_view_name": "LayoutView",
            "grid_template_rows": null,
            "right": null,
            "justify_content": null,
            "_view_module": "@jupyter-widgets/base",
            "overflow": null,
            "_model_module_version": "1.2.0",
            "_view_count": null,
            "flex_flow": null,
            "width": null,
            "min_width": null,
            "border": null,
            "align_items": null,
            "bottom": null,
            "_model_module": "@jupyter-widgets/base",
            "top": null,
            "grid_column": null,
            "overflow_y": null,
            "overflow_x": null,
            "grid_auto_flow": null,
            "grid_area": null,
            "grid_template_columns": null,
            "flex": null,
            "_model_name": "LayoutModel",
            "justify_items": null,
            "grid_row": null,
            "max_height": null,
            "align_content": null,
            "visibility": null,
            "align_self": null,
            "height": null,
            "min_height": null,
            "padding": null,
            "grid_auto_rows": null,
            "grid_gap": null,
            "max_width": null,
            "order": null,
            "_view_module_version": "1.2.0",
            "grid_template_areas": null,
            "object_position": null,
            "object_fit": null,
            "grid_auto_columns": null,
            "margin": null,
            "display": null,
            "left": null
          }
        },
        "a1c5cad93d364091a60f6d1689e5f54f": {
          "model_module": "@jupyter-widgets/controls",
          "model_name": "HBoxModel",
          "state": {
            "_view_name": "HBoxView",
            "_dom_classes": [],
            "_model_name": "HBoxModel",
            "_view_module": "@jupyter-widgets/controls",
            "_model_module_version": "1.5.0",
            "_view_count": null,
            "_view_module_version": "1.5.0",
            "box_style": "",
            "layout": "IPY_MODEL_74f9094244a4476987ccee7698b9c300",
            "_model_module": "@jupyter-widgets/controls",
            "children": [
              "IPY_MODEL_2483fb9299314079b0f1ca4f20c7856d",
              "IPY_MODEL_3b2446d502604dfdaf7cdbf245ce6548"
            ]
          }
        },
        "74f9094244a4476987ccee7698b9c300": {
          "model_module": "@jupyter-widgets/base",
          "model_name": "LayoutModel",
          "state": {
            "_view_name": "LayoutView",
            "grid_template_rows": null,
            "right": null,
            "justify_content": null,
            "_view_module": "@jupyter-widgets/base",
            "overflow": null,
            "_model_module_version": "1.2.0",
            "_view_count": null,
            "flex_flow": null,
            "width": null,
            "min_width": null,
            "border": null,
            "align_items": null,
            "bottom": null,
            "_model_module": "@jupyter-widgets/base",
            "top": null,
            "grid_column": null,
            "overflow_y": null,
            "overflow_x": null,
            "grid_auto_flow": null,
            "grid_area": null,
            "grid_template_columns": null,
            "flex": null,
            "_model_name": "LayoutModel",
            "justify_items": null,
            "grid_row": null,
            "max_height": null,
            "align_content": null,
            "visibility": null,
            "align_self": null,
            "height": null,
            "min_height": null,
            "padding": null,
            "grid_auto_rows": null,
            "grid_gap": null,
            "max_width": null,
            "order": null,
            "_view_module_version": "1.2.0",
            "grid_template_areas": null,
            "object_position": null,
            "object_fit": null,
            "grid_auto_columns": null,
            "margin": null,
            "display": null,
            "left": null
          }
        },
        "2483fb9299314079b0f1ca4f20c7856d": {
          "model_module": "@jupyter-widgets/controls",
          "model_name": "FloatProgressModel",
          "state": {
            "_view_name": "ProgressView",
            "style": "IPY_MODEL_fc0b9d9e316647ecad879a58a9127e8f",
            "_dom_classes": [],
            "description": "100%",
            "_model_name": "FloatProgressModel",
            "bar_style": "success",
            "max": 854,
            "_view_module": "@jupyter-widgets/controls",
            "_model_module_version": "1.5.0",
            "value": 854,
            "_view_count": null,
            "_view_module_version": "1.5.0",
            "orientation": "horizontal",
            "min": 0,
            "description_tooltip": null,
            "_model_module": "@jupyter-widgets/controls",
            "layout": "IPY_MODEL_c4d1a03270eb47dcaae7cfa0c48091ee"
          }
        },
        "3b2446d502604dfdaf7cdbf245ce6548": {
          "model_module": "@jupyter-widgets/controls",
          "model_name": "HTMLModel",
          "state": {
            "_view_name": "HTMLView",
            "style": "IPY_MODEL_19fc7a5c0a874a2488933da9dae3f95f",
            "_dom_classes": [],
            "description": "",
            "_model_name": "HTMLModel",
            "placeholder": "​",
            "_view_module": "@jupyter-widgets/controls",
            "_model_module_version": "1.5.0",
            "value": " 854/854 [05:46&lt;00:00,  2.47it/s]",
            "_view_count": null,
            "_view_module_version": "1.5.0",
            "description_tooltip": null,
            "_model_module": "@jupyter-widgets/controls",
            "layout": "IPY_MODEL_fcfa373a5d1b47d7ac5e924a02f18425"
          }
        },
        "fc0b9d9e316647ecad879a58a9127e8f": {
          "model_module": "@jupyter-widgets/controls",
          "model_name": "ProgressStyleModel",
          "state": {
            "_view_name": "StyleView",
            "_model_name": "ProgressStyleModel",
            "description_width": "initial",
            "_view_module": "@jupyter-widgets/base",
            "_model_module_version": "1.5.0",
            "_view_count": null,
            "_view_module_version": "1.2.0",
            "bar_color": null,
            "_model_module": "@jupyter-widgets/controls"
          }
        },
        "c4d1a03270eb47dcaae7cfa0c48091ee": {
          "model_module": "@jupyter-widgets/base",
          "model_name": "LayoutModel",
          "state": {
            "_view_name": "LayoutView",
            "grid_template_rows": null,
            "right": null,
            "justify_content": null,
            "_view_module": "@jupyter-widgets/base",
            "overflow": null,
            "_model_module_version": "1.2.0",
            "_view_count": null,
            "flex_flow": null,
            "width": null,
            "min_width": null,
            "border": null,
            "align_items": null,
            "bottom": null,
            "_model_module": "@jupyter-widgets/base",
            "top": null,
            "grid_column": null,
            "overflow_y": null,
            "overflow_x": null,
            "grid_auto_flow": null,
            "grid_area": null,
            "grid_template_columns": null,
            "flex": null,
            "_model_name": "LayoutModel",
            "justify_items": null,
            "grid_row": null,
            "max_height": null,
            "align_content": null,
            "visibility": null,
            "align_self": null,
            "height": null,
            "min_height": null,
            "padding": null,
            "grid_auto_rows": null,
            "grid_gap": null,
            "max_width": null,
            "order": null,
            "_view_module_version": "1.2.0",
            "grid_template_areas": null,
            "object_position": null,
            "object_fit": null,
            "grid_auto_columns": null,
            "margin": null,
            "display": null,
            "left": null
          }
        },
        "19fc7a5c0a874a2488933da9dae3f95f": {
          "model_module": "@jupyter-widgets/controls",
          "model_name": "DescriptionStyleModel",
          "state": {
            "_view_name": "StyleView",
            "_model_name": "DescriptionStyleModel",
            "description_width": "",
            "_view_module": "@jupyter-widgets/base",
            "_model_module_version": "1.5.0",
            "_view_count": null,
            "_view_module_version": "1.2.0",
            "_model_module": "@jupyter-widgets/controls"
          }
        },
        "fcfa373a5d1b47d7ac5e924a02f18425": {
          "model_module": "@jupyter-widgets/base",
          "model_name": "LayoutModel",
          "state": {
            "_view_name": "LayoutView",
            "grid_template_rows": null,
            "right": null,
            "justify_content": null,
            "_view_module": "@jupyter-widgets/base",
            "overflow": null,
            "_model_module_version": "1.2.0",
            "_view_count": null,
            "flex_flow": null,
            "width": null,
            "min_width": null,
            "border": null,
            "align_items": null,
            "bottom": null,
            "_model_module": "@jupyter-widgets/base",
            "top": null,
            "grid_column": null,
            "overflow_y": null,
            "overflow_x": null,
            "grid_auto_flow": null,
            "grid_area": null,
            "grid_template_columns": null,
            "flex": null,
            "_model_name": "LayoutModel",
            "justify_items": null,
            "grid_row": null,
            "max_height": null,
            "align_content": null,
            "visibility": null,
            "align_self": null,
            "height": null,
            "min_height": null,
            "padding": null,
            "grid_auto_rows": null,
            "grid_gap": null,
            "max_width": null,
            "order": null,
            "_view_module_version": "1.2.0",
            "grid_template_areas": null,
            "object_position": null,
            "object_fit": null,
            "grid_auto_columns": null,
            "margin": null,
            "display": null,
            "left": null
          }
        }
      }
    }
  },
  "cells": [
    {
      "cell_type": "code",
      "metadata": {
        "id": "bABla8X0NzMa"
      },
      "source": [
        "# For Google Colab\n",
        "# ! pip install pretty_midi\n",
        "# ! pip install fastai  --upgrade\n",
        "# ! pip install torch==1.7.0+cu101 torchvision==0.8.1+cu101 torchaudio==0.7.0 -f https://download.pytorch.org/whl/torch_stable.html"
      ],
      "execution_count": null,
      "outputs": []
    },
    {
      "cell_type": "code",
      "metadata": {
        "colab": {
          "base_uri": "https://localhost:8080/"
        },
        "id": "gsz9Bxifpwsh",
        "scrolled": false,
        "outputId": "15160de3-6037-4b4e-923a-3944fca22141"
      },
      "source": [
        "# Getting MAESTRO MIDI dataset. See\n",
        "# https://magenta.tensorflow.org/datasets/maestro\n",
        "! wget https://storage.googleapis.com/magentadata/datasets/maestro/v3.0.0/maestro-v3.0.0-midi.zip"
      ],
      "execution_count": null,
      "outputs": [
        {
          "output_type": "stream",
          "text": [
            "--2020-12-19 16:42:48--  https://storage.googleapis.com/magentadata/datasets/maestro/v3.0.0/maestro-v3.0.0-midi.zip\n",
            "Resolving storage.googleapis.com (storage.googleapis.com)... 142.250.101.128, 74.125.137.128, 2607:f8b0:4023:c03::80, ...\n",
            "Connecting to storage.googleapis.com (storage.googleapis.com)|142.250.101.128|:443... connected.\n",
            "HTTP request sent, awaiting response... 200 OK\n",
            "Length: 58416533 (56M) [application/octet-stream]\n",
            "Saving to: ‘maestro-v3.0.0-midi.zip’\n",
            "\n",
            "maestro-v3.0.0-midi 100%[===================>]  55.71M  86.2MB/s    in 0.6s    \n",
            "\n",
            "2020-12-19 16:42:49 (86.2 MB/s) - ‘maestro-v3.0.0-midi.zip’ saved [58416533/58416533]\n",
            "\n"
          ],
          "name": "stdout"
        }
      ]
    },
    {
      "cell_type": "code",
      "metadata": {
        "id": "_N4kTxF8k4zM"
      },
      "source": [
        "import pretty_midi\n",
        "import zipfile\n",
        "import tarfile\n",
        "import pandas as pd\n",
        "import numpy as np\n",
        "from tqdm.notebook import tqdm\n",
        "from fastai.vision.all import Image"
      ],
      "execution_count": null,
      "outputs": []
    },
    {
      "cell_type": "code",
      "metadata": {
        "id": "K8sy8ojSs5BW"
      },
      "source": [
        "with zipfile.ZipFile('maestro-v3.0.0-midi.zip', 'r') as zf:\n",
        "  zf.extractall()"
      ],
      "execution_count": null,
      "outputs": []
    },
    {
      "cell_type": "code",
      "metadata": {
        "id": "qOpy4gBTuxLR"
      },
      "source": [
        "frequency = 4\n",
        "midi_length = 100\n",
        "midi_time = midi_length / frequency\n",
        "data_timestep = frequency * 5\n",
        "cut = frequency * 3"
      ],
      "execution_count": null,
      "outputs": []
    },
    {
      "cell_type": "code",
      "metadata": {
        "colab": {
          "base_uri": "https://localhost:8080/"
        },
        "id": "IqQwiEFpGeV9",
        "outputId": "b77d3a16-e0d9-460d-8804-dc401b67a541"
      },
      "source": [
        "midi_time"
      ],
      "execution_count": null,
      "outputs": [
        {
          "output_type": "execute_result",
          "data": {
            "text/plain": [
              "7.5"
            ]
          },
          "metadata": {
            "tags": []
          },
          "execution_count": 6
        }
      ]
    },
    {
      "cell_type": "markdown",
      "metadata": {
        "id": "0W_SDxEyQrQ9"
      },
      "source": [
        "# Invistagete the data and get a subset for training"
      ]
    },
    {
      "cell_type": "code",
      "metadata": {
        "id": "sXwPNBButg9f"
      },
      "source": [
        "df = pd.read_csv('maestro-v3.0.0/maestro-v3.0.0.csv')  "
      ],
      "execution_count": null,
      "outputs": []
    },
    {
      "cell_type": "code",
      "metadata": {
        "colab": {
          "base_uri": "https://localhost:8080/",
          "height": 538
        },
        "id": "SLdp8fmnaijy",
        "outputId": "520d7132-32ce-49e5-8eca-cf90d4e3edda"
      },
      "source": [
        "df.head(10)"
      ],
      "execution_count": null,
      "outputs": [
        {
          "output_type": "execute_result",
          "data": {
            "text/html": [
              "<div>\n",
              "<style scoped>\n",
              "    .dataframe tbody tr th:only-of-type {\n",
              "        vertical-align: middle;\n",
              "    }\n",
              "\n",
              "    .dataframe tbody tr th {\n",
              "        vertical-align: top;\n",
              "    }\n",
              "\n",
              "    .dataframe thead th {\n",
              "        text-align: right;\n",
              "    }\n",
              "</style>\n",
              "<table border=\"1\" class=\"dataframe\">\n",
              "  <thead>\n",
              "    <tr style=\"text-align: right;\">\n",
              "      <th></th>\n",
              "      <th>canonical_composer</th>\n",
              "      <th>canonical_title</th>\n",
              "      <th>split</th>\n",
              "      <th>year</th>\n",
              "      <th>midi_filename</th>\n",
              "      <th>audio_filename</th>\n",
              "      <th>duration</th>\n",
              "    </tr>\n",
              "  </thead>\n",
              "  <tbody>\n",
              "    <tr>\n",
              "      <th>0</th>\n",
              "      <td>Alban Berg</td>\n",
              "      <td>Sonata Op. 1</td>\n",
              "      <td>train</td>\n",
              "      <td>2018</td>\n",
              "      <td>2018/MIDI-Unprocessed_Chamber3_MID--AUDIO_10_R3_2018_wav--1.midi</td>\n",
              "      <td>2018/MIDI-Unprocessed_Chamber3_MID--AUDIO_10_R3_2018_wav--1.wav</td>\n",
              "      <td>698.661160</td>\n",
              "    </tr>\n",
              "    <tr>\n",
              "      <th>1</th>\n",
              "      <td>Alban Berg</td>\n",
              "      <td>Sonata Op. 1</td>\n",
              "      <td>train</td>\n",
              "      <td>2008</td>\n",
              "      <td>2008/MIDI-Unprocessed_03_R2_2008_01-03_ORIG_MID--AUDIO_03_R2_2008_wav--2.midi</td>\n",
              "      <td>2008/MIDI-Unprocessed_03_R2_2008_01-03_ORIG_MID--AUDIO_03_R2_2008_wav--2.wav</td>\n",
              "      <td>759.518471</td>\n",
              "    </tr>\n",
              "    <tr>\n",
              "      <th>2</th>\n",
              "      <td>Alban Berg</td>\n",
              "      <td>Sonata Op. 1</td>\n",
              "      <td>train</td>\n",
              "      <td>2017</td>\n",
              "      <td>2017/MIDI-Unprocessed_066_PIANO066_MID--AUDIO-split_07-07-17_Piano-e_3-02_wav--3.midi</td>\n",
              "      <td>2017/MIDI-Unprocessed_066_PIANO066_MID--AUDIO-split_07-07-17_Piano-e_3-02_wav--3.wav</td>\n",
              "      <td>464.649433</td>\n",
              "    </tr>\n",
              "    <tr>\n",
              "      <th>3</th>\n",
              "      <td>Alexander Scriabin</td>\n",
              "      <td>24 Preludes Op. 11, No. 13-24</td>\n",
              "      <td>train</td>\n",
              "      <td>2004</td>\n",
              "      <td>2004/MIDI-Unprocessed_XP_21_R1_2004_01_ORIG_MID--AUDIO_21_R1_2004_01_Track01_wav.midi</td>\n",
              "      <td>2004/MIDI-Unprocessed_XP_21_R1_2004_01_ORIG_MID--AUDIO_21_R1_2004_01_Track01_wav.wav</td>\n",
              "      <td>872.640588</td>\n",
              "    </tr>\n",
              "    <tr>\n",
              "      <th>4</th>\n",
              "      <td>Alexander Scriabin</td>\n",
              "      <td>3 Etudes, Op. 65</td>\n",
              "      <td>validation</td>\n",
              "      <td>2006</td>\n",
              "      <td>2006/MIDI-Unprocessed_17_R1_2006_01-06_ORIG_MID--AUDIO_17_R1_2006_04_Track04_wav.midi</td>\n",
              "      <td>2006/MIDI-Unprocessed_17_R1_2006_01-06_ORIG_MID--AUDIO_17_R1_2006_04_Track04_wav.wav</td>\n",
              "      <td>397.857508</td>\n",
              "    </tr>\n",
              "    <tr>\n",
              "      <th>5</th>\n",
              "      <td>Alexander Scriabin</td>\n",
              "      <td>5 Preludes, Op.15</td>\n",
              "      <td>validation</td>\n",
              "      <td>2009</td>\n",
              "      <td>2009/MIDI-Unprocessed_07_R1_2009_04-05_ORIG_MID--AUDIO_07_R1_2009_07_R1_2009_04_WAV.midi</td>\n",
              "      <td>2009/MIDI-Unprocessed_07_R1_2009_04-05_ORIG_MID--AUDIO_07_R1_2009_07_R1_2009_04_WAV.wav</td>\n",
              "      <td>400.557826</td>\n",
              "    </tr>\n",
              "    <tr>\n",
              "      <th>6</th>\n",
              "      <td>Alexander Scriabin</td>\n",
              "      <td>Entragete, Op.63</td>\n",
              "      <td>test</td>\n",
              "      <td>2009</td>\n",
              "      <td>2009/MIDI-Unprocessed_11_R1_2009_06-09_ORIG_MID--AUDIO_11_R1_2009_11_R1_2009_07_WAV.midi</td>\n",
              "      <td>2009/MIDI-Unprocessed_11_R1_2009_06-09_ORIG_MID--AUDIO_11_R1_2009_11_R1_2009_07_WAV.wav</td>\n",
              "      <td>163.745830</td>\n",
              "    </tr>\n",
              "    <tr>\n",
              "      <th>7</th>\n",
              "      <td>Alexander Scriabin</td>\n",
              "      <td>Etude Op. 2 No.1;  Etudes Op. 8, Nos. 5, 11 and 12</td>\n",
              "      <td>train</td>\n",
              "      <td>2013</td>\n",
              "      <td>2013/ORIG-MIDI_03_7_8_13_Group__MID--AUDIO_19_R2_2013_wav--3.midi</td>\n",
              "      <td>2013/ORIG-MIDI_03_7_8_13_Group__MID--AUDIO_19_R2_2013_wav--3.wav</td>\n",
              "      <td>563.904351</td>\n",
              "    </tr>\n",
              "    <tr>\n",
              "      <th>8</th>\n",
              "      <td>Alexander Scriabin</td>\n",
              "      <td>Etude Op. 42, Nos. 4 &amp; 5</td>\n",
              "      <td>test</td>\n",
              "      <td>2009</td>\n",
              "      <td>2009/MIDI-Unprocessed_02_R1_2009_03-06_ORIG_MID--AUDIO_02_R1_2009_02_R1_2009_04_WAV.midi</td>\n",
              "      <td>2009/MIDI-Unprocessed_02_R1_2009_03-06_ORIG_MID--AUDIO_02_R1_2009_02_R1_2009_04_WAV.wav</td>\n",
              "      <td>136.315302</td>\n",
              "    </tr>\n",
              "    <tr>\n",
              "      <th>9</th>\n",
              "      <td>Alexander Scriabin</td>\n",
              "      <td>Etude Op. 8, No. 13</td>\n",
              "      <td>validation</td>\n",
              "      <td>2009</td>\n",
              "      <td>2009/MIDI-Unprocessed_02_R1_2009_03-06_ORIG_MID--AUDIO_02_R1_2009_02_R1_2009_05_WAV.midi</td>\n",
              "      <td>2009/MIDI-Unprocessed_02_R1_2009_03-06_ORIG_MID--AUDIO_02_R1_2009_02_R1_2009_05_WAV.wav</td>\n",
              "      <td>167.085837</td>\n",
              "    </tr>\n",
              "  </tbody>\n",
              "</table>\n",
              "</div>"
            ],
            "text/plain": [
              "   canonical_composer  ...    duration\n",
              "0          Alban Berg  ...  698.661160\n",
              "1          Alban Berg  ...  759.518471\n",
              "2          Alban Berg  ...  464.649433\n",
              "3  Alexander Scriabin  ...  872.640588\n",
              "4  Alexander Scriabin  ...  397.857508\n",
              "5  Alexander Scriabin  ...  400.557826\n",
              "6  Alexander Scriabin  ...  163.745830\n",
              "7  Alexander Scriabin  ...  563.904351\n",
              "8  Alexander Scriabin  ...  136.315302\n",
              "9  Alexander Scriabin  ...  167.085837\n",
              "\n",
              "[10 rows x 7 columns]"
            ]
          },
          "metadata": {
            "tags": []
          },
          "execution_count": 8
        }
      ]
    },
    {
      "cell_type": "code",
      "metadata": {
        "colab": {
          "base_uri": "https://localhost:8080/"
        },
        "id": "TH6UDHPvuQQp",
        "outputId": "ccc13098-abb8-4016-a549-4d777697a8fa"
      },
      "source": [
        "df['duration'].describe()"
      ],
      "execution_count": null,
      "outputs": [
        {
          "output_type": "execute_result",
          "data": {
            "text/plain": [
              "count    1276.000000\n",
              "mean      560.463595\n",
              "std       443.057431\n",
              "min        45.155208\n",
              "25%       261.981576\n",
              "50%       429.168241\n",
              "75%       685.018817\n",
              "max      2624.663508\n",
              "Name: duration, dtype: float64"
            ]
          },
          "metadata": {
            "tags": []
          },
          "execution_count": 9
        }
      ]
    },
    {
      "cell_type": "code",
      "metadata": {
        "id": "9VIFpesa0vmF"
      },
      "source": [
        "c_df = df.groupby(['canonical_title'])['midi_filename'].count()"
      ],
      "execution_count": null,
      "outputs": []
    },
    {
      "cell_type": "code",
      "metadata": {
        "colab": {
          "base_uri": "https://localhost:8080/"
        },
        "id": "E0IdstFr5mzh",
        "outputId": "44522bb8-ed8a-4e8d-dbe0-a408bf8918c8"
      },
      "source": [
        "c_df.where(c_df>1).describe()"
      ],
      "execution_count": null,
      "outputs": [
        {
          "output_type": "execute_result",
          "data": {
            "text/plain": [
              "count    204.000000\n",
              "mean       3.068627\n",
              "std        2.088013\n",
              "min        2.000000\n",
              "25%        2.000000\n",
              "50%        2.000000\n",
              "75%        3.000000\n",
              "max       18.000000\n",
              "Name: midi_filename, dtype: float64"
            ]
          },
          "metadata": {
            "tags": []
          },
          "execution_count": 11
        }
      ]
    },
    {
      "cell_type": "code",
      "metadata": {
        "colab": {
          "base_uri": "https://localhost:8080/"
        },
        "id": "VjPy1IdJRhOs",
        "outputId": "92d8e001-0394-43a0-ff6e-5e7fc94fd340"
      },
      "source": [
        "# About a half of our data is consists of midi records of the same compositions what is not good for education process\n",
        "c_df.where(c_df>1).sum()"
      ],
      "execution_count": null,
      "outputs": [
        {
          "output_type": "execute_result",
          "data": {
            "text/plain": [
              "626.0"
            ]
          },
          "metadata": {
            "tags": []
          },
          "execution_count": 12
        }
      ]
    },
    {
      "cell_type": "code",
      "metadata": {
        "id": "JGXvWru5WtLD"
      },
      "source": [
        "# Let's deduplicate our data\n",
        "train_data = df.drop_duplicates(subset = 'canonical_title', keep = 'first')[['midi_filename', 'duration']]"
      ],
      "execution_count": null,
      "outputs": []
    },
    {
      "cell_type": "code",
      "metadata": {
        "colab": {
          "base_uri": "https://localhost:8080/",
          "height": 348
        },
        "id": "oaGure5JdzAo",
        "outputId": "e1e4fe97-09a5-455d-8023-a01b93188122"
      },
      "source": [
        "train_data.head(10)"
      ],
      "execution_count": null,
      "outputs": [
        {
          "output_type": "execute_result",
          "data": {
            "text/html": [
              "<div>\n",
              "<style scoped>\n",
              "    .dataframe tbody tr th:only-of-type {\n",
              "        vertical-align: middle;\n",
              "    }\n",
              "\n",
              "    .dataframe tbody tr th {\n",
              "        vertical-align: top;\n",
              "    }\n",
              "\n",
              "    .dataframe thead th {\n",
              "        text-align: right;\n",
              "    }\n",
              "</style>\n",
              "<table border=\"1\" class=\"dataframe\">\n",
              "  <thead>\n",
              "    <tr style=\"text-align: right;\">\n",
              "      <th></th>\n",
              "      <th>midi_filename</th>\n",
              "      <th>duration</th>\n",
              "    </tr>\n",
              "  </thead>\n",
              "  <tbody>\n",
              "    <tr>\n",
              "      <th>0</th>\n",
              "      <td>2018/MIDI-Unprocessed_Chamber3_MID--AUDIO_10_R3_2018_wav--1.midi</td>\n",
              "      <td>698.661160</td>\n",
              "    </tr>\n",
              "    <tr>\n",
              "      <th>3</th>\n",
              "      <td>2004/MIDI-Unprocessed_XP_21_R1_2004_01_ORIG_MID--AUDIO_21_R1_2004_01_Track01_wav.midi</td>\n",
              "      <td>872.640588</td>\n",
              "    </tr>\n",
              "    <tr>\n",
              "      <th>4</th>\n",
              "      <td>2006/MIDI-Unprocessed_17_R1_2006_01-06_ORIG_MID--AUDIO_17_R1_2006_04_Track04_wav.midi</td>\n",
              "      <td>397.857508</td>\n",
              "    </tr>\n",
              "    <tr>\n",
              "      <th>5</th>\n",
              "      <td>2009/MIDI-Unprocessed_07_R1_2009_04-05_ORIG_MID--AUDIO_07_R1_2009_07_R1_2009_04_WAV.midi</td>\n",
              "      <td>400.557826</td>\n",
              "    </tr>\n",
              "    <tr>\n",
              "      <th>6</th>\n",
              "      <td>2009/MIDI-Unprocessed_11_R1_2009_06-09_ORIG_MID--AUDIO_11_R1_2009_11_R1_2009_07_WAV.midi</td>\n",
              "      <td>163.745830</td>\n",
              "    </tr>\n",
              "    <tr>\n",
              "      <th>7</th>\n",
              "      <td>2013/ORIG-MIDI_03_7_8_13_Group__MID--AUDIO_19_R2_2013_wav--3.midi</td>\n",
              "      <td>563.904351</td>\n",
              "    </tr>\n",
              "    <tr>\n",
              "      <th>8</th>\n",
              "      <td>2009/MIDI-Unprocessed_02_R1_2009_03-06_ORIG_MID--AUDIO_02_R1_2009_02_R1_2009_04_WAV.midi</td>\n",
              "      <td>136.315302</td>\n",
              "    </tr>\n",
              "    <tr>\n",
              "      <th>9</th>\n",
              "      <td>2009/MIDI-Unprocessed_02_R1_2009_03-06_ORIG_MID--AUDIO_02_R1_2009_02_R1_2009_05_WAV.midi</td>\n",
              "      <td>167.085837</td>\n",
              "    </tr>\n",
              "    <tr>\n",
              "      <th>10</th>\n",
              "      <td>2011/MIDI-Unprocessed_15_R1_2011_MID--AUDIO_R1-D6_09_Track09_wav.midi</td>\n",
              "      <td>102.007110</td>\n",
              "    </tr>\n",
              "    <tr>\n",
              "      <th>11</th>\n",
              "      <td>2006/MIDI-Unprocessed_19_R1_2006_01-07_ORIG_MID--AUDIO_19_R1_2006_04_Track04_wav.midi</td>\n",
              "      <td>550.997045</td>\n",
              "    </tr>\n",
              "  </tbody>\n",
              "</table>\n",
              "</div>"
            ],
            "text/plain": [
              "                                                                               midi_filename    duration\n",
              "0                           2018/MIDI-Unprocessed_Chamber3_MID--AUDIO_10_R3_2018_wav--1.midi  698.661160\n",
              "3      2004/MIDI-Unprocessed_XP_21_R1_2004_01_ORIG_MID--AUDIO_21_R1_2004_01_Track01_wav.midi  872.640588\n",
              "4      2006/MIDI-Unprocessed_17_R1_2006_01-06_ORIG_MID--AUDIO_17_R1_2006_04_Track04_wav.midi  397.857508\n",
              "5   2009/MIDI-Unprocessed_07_R1_2009_04-05_ORIG_MID--AUDIO_07_R1_2009_07_R1_2009_04_WAV.midi  400.557826\n",
              "6   2009/MIDI-Unprocessed_11_R1_2009_06-09_ORIG_MID--AUDIO_11_R1_2009_11_R1_2009_07_WAV.midi  163.745830\n",
              "7                          2013/ORIG-MIDI_03_7_8_13_Group__MID--AUDIO_19_R2_2013_wav--3.midi  563.904351\n",
              "8   2009/MIDI-Unprocessed_02_R1_2009_03-06_ORIG_MID--AUDIO_02_R1_2009_02_R1_2009_04_WAV.midi  136.315302\n",
              "9   2009/MIDI-Unprocessed_02_R1_2009_03-06_ORIG_MID--AUDIO_02_R1_2009_02_R1_2009_05_WAV.midi  167.085837\n",
              "10                     2011/MIDI-Unprocessed_15_R1_2011_MID--AUDIO_R1-D6_09_Track09_wav.midi  102.007110\n",
              "11     2006/MIDI-Unprocessed_19_R1_2006_01-07_ORIG_MID--AUDIO_19_R1_2006_04_Track04_wav.midi  550.997045"
            ]
          },
          "metadata": {
            "tags": []
          },
          "execution_count": 14
        }
      ]
    },
    {
      "cell_type": "code",
      "metadata": {
        "colab": {
          "base_uri": "https://localhost:8080/",
          "height": 288
        },
        "id": "M9m5JMluejmO",
        "outputId": "99480cc4-ca69-4bfb-a4cb-ef31bfe71d34"
      },
      "source": [
        "train_data.describe()"
      ],
      "execution_count": null,
      "outputs": [
        {
          "output_type": "execute_result",
          "data": {
            "text/html": [
              "<div>\n",
              "<style scoped>\n",
              "    .dataframe tbody tr th:only-of-type {\n",
              "        vertical-align: middle;\n",
              "    }\n",
              "\n",
              "    .dataframe tbody tr th {\n",
              "        vertical-align: top;\n",
              "    }\n",
              "\n",
              "    .dataframe thead th {\n",
              "        text-align: right;\n",
              "    }\n",
              "</style>\n",
              "<table border=\"1\" class=\"dataframe\">\n",
              "  <thead>\n",
              "    <tr style=\"text-align: right;\">\n",
              "      <th></th>\n",
              "      <th>duration</th>\n",
              "    </tr>\n",
              "  </thead>\n",
              "  <tbody>\n",
              "    <tr>\n",
              "      <th>count</th>\n",
              "      <td>854.000000</td>\n",
              "    </tr>\n",
              "    <tr>\n",
              "      <th>mean</th>\n",
              "      <td>551.704522</td>\n",
              "    </tr>\n",
              "    <tr>\n",
              "      <th>std</th>\n",
              "      <td>442.581746</td>\n",
              "    </tr>\n",
              "    <tr>\n",
              "      <th>min</th>\n",
              "      <td>45.155208</td>\n",
              "    </tr>\n",
              "    <tr>\n",
              "      <th>25%</th>\n",
              "      <td>254.777056</td>\n",
              "    </tr>\n",
              "    <tr>\n",
              "      <th>50%</th>\n",
              "      <td>398.347625</td>\n",
              "    </tr>\n",
              "    <tr>\n",
              "      <th>75%</th>\n",
              "      <td>686.354214</td>\n",
              "    </tr>\n",
              "    <tr>\n",
              "      <th>max</th>\n",
              "      <td>2622.724407</td>\n",
              "    </tr>\n",
              "  </tbody>\n",
              "</table>\n",
              "</div>"
            ],
            "text/plain": [
              "          duration\n",
              "count   854.000000\n",
              "mean    551.704522\n",
              "std     442.581746\n",
              "min      45.155208\n",
              "25%     254.777056\n",
              "50%     398.347625\n",
              "75%     686.354214\n",
              "max    2622.724407"
            ]
          },
          "metadata": {
            "tags": []
          },
          "execution_count": 15
        }
      ]
    },
    {
      "cell_type": "code",
      "metadata": {
        "colab": {
          "base_uri": "https://localhost:8080/"
        },
        "id": "ORXhcF0AhJDU",
        "outputId": "b3b5b14f-ec9c-463e-c132-1b3faa6c1193"
      },
      "source": [
        "# A total time duration of all midi files\n",
        "train_data['duration'].sum()"
      ],
      "execution_count": null,
      "outputs": [
        {
          "output_type": "execute_result",
          "data": {
            "text/plain": [
              "471155.6615315958"
            ]
          },
          "metadata": {
            "tags": []
          },
          "execution_count": 16
        }
      ]
    },
    {
      "cell_type": "markdown",
      "metadata": {
        "id": "7u-8l_7Ijkqh"
      },
      "source": [
        "# Create a traing dataset"
      ]
    },
    {
      "cell_type": "markdown",
      "metadata": {
        "id": "FObZbY_QC93G"
      },
      "source": [
        "The dataset will contain piano rolls *$midi_time* sec length each.\n",
        "We will try to avoid including the begging and ending parts of the original rolls while splitting it."
      ]
    },
    {
      "cell_type": "code",
      "metadata": {
        "id": "UPMRiXeuxjwE"
      },
      "source": [
        "! rm -rf data\n",
        "! mkdir data"
      ],
      "execution_count": null,
      "outputs": []
    },
    {
      "cell_type": "code",
      "metadata": {
        "colab": {
          "base_uri": "https://localhost:8080/",
          "height": 66,
          "referenced_widgets": [
            "d7984ef5eb0b4b04beac5d9334ff6d4d",
            "6d8578582bd246588e54b9f6b5746b10",
            "d47f1f355cfd4a7287882357348c5455",
            "3039d7445a9e4291a441aadb6e1c8687",
            "e1254df327df4fc09c985b83302fa512",
            "f7ceaf9a6bdd441987ec7ff061ea2c64",
            "68e282f024d541d28c24bb95a95b33c8",
            "010b69a5b672419d97585d03f87266ee"
          ]
        },
        "id": "B-sC3DH9iVfD",
        "outputId": "29b39338-ac84-4a48-f884-85df2a59a6f5"
      },
      "source": [
        "max_v = np.zeros(128)\n",
        "for _, row in tqdm(train_data.iterrows(), total=train_data.shape[0]):\n",
        "  midi_pretty_format = pretty_midi.PrettyMIDI('maestro-v3.0.0/' + row['midi_filename'])\n",
        "  piano_midi = midi_pretty_format.instruments[0] # Get the piano channels\n",
        "  piano_roll = piano_midi.get_piano_roll(fs = frequency)\n",
        "  max_v = np.maximum(max_v, piano_roll.max(axis = 1))\n",
        "\n",
        "used_channels = max_v > 0"
      ],
      "execution_count": null,
      "outputs": [
        {
          "output_type": "display_data",
          "data": {
            "application/vnd.jupyter.widget-view+json": {
              "model_id": "d7984ef5eb0b4b04beac5d9334ff6d4d",
              "version_minor": 0,
              "version_major": 2
            },
            "text/plain": [
              "HBox(children=(FloatProgress(value=0.0, max=854.0), HTML(value='')))"
            ]
          },
          "metadata": {
            "tags": []
          }
        },
        {
          "output_type": "stream",
          "text": [
            "\n"
          ],
          "name": "stdout"
        }
      ]
    },
    {
      "cell_type": "code",
      "metadata": {
        "colab": {
          "base_uri": "https://localhost:8080/"
        },
        "id": "Xx6InIX0ktgY",
        "outputId": "fee143e6-6e85-4523-e522-3adf8f3d27eb"
      },
      "source": [
        "max_v"
      ],
      "execution_count": null,
      "outputs": [
        {
          "output_type": "execute_result",
          "data": {
            "text/plain": [
              "array([  0.,   0.,   0.,   0.,   0.,   0.,   0.,   0.,   0.,   0.,   0.,\n",
              "         0.,   0.,   0.,   0.,   0.,   0.,   0.,   0.,   0.,   0., 121.,\n",
              "       118., 109., 108., 110., 113., 118., 120., 114., 116., 119., 115.,\n",
              "       115., 119., 120., 119., 123., 119., 119., 121., 124., 122., 121.,\n",
              "       123., 121., 126., 122., 123., 126., 120., 122., 121., 122., 119.,\n",
              "       124., 121., 124., 117., 123., 119., 119., 118., 123., 120., 117.,\n",
              "       117., 118., 118., 119., 122., 125., 115., 126., 116., 126., 123.,\n",
              "       126., 126., 125., 126., 121., 121., 118., 117., 122., 116., 122.,\n",
              "       121., 118., 126., 121., 119., 122., 121., 119., 192., 121., 115.,\n",
              "       177., 120., 204., 125., 123., 116., 112., 125., 106., 106.,   0.,\n",
              "         0.,   0.,   0.,   0.,   0.,   0.,   0.,   0.,   0.,   0.,   0.,\n",
              "         0.,   0.,   0.,   0.,   0.,   0.,   0.])"
            ]
          },
          "metadata": {
            "tags": []
          },
          "execution_count": 19
        }
      ]
    },
    {
      "cell_type": "markdown",
      "metadata": {
        "id": "bd-UD2_kzy6B"
      },
      "source": [
        "We \n",
        "do not want to take into account channels which are never used"
      ]
    },
    {
      "cell_type": "code",
      "metadata": {
        "colab": {
          "base_uri": "https://localhost:8080/"
        },
        "id": "yY1-7NCauD20",
        "outputId": "63036069-dc8d-488b-8275-1a4224e4b92e"
      },
      "source": [
        "used_channels"
      ],
      "execution_count": null,
      "outputs": [
        {
          "output_type": "execute_result",
          "data": {
            "text/plain": [
              "array([False, False, False, False, False, False, False, False, False,\n",
              "       False, False, False, False, False, False, False, False, False,\n",
              "       False, False, False,  True,  True,  True,  True,  True,  True,\n",
              "        True,  True,  True,  True,  True,  True,  True,  True,  True,\n",
              "        True,  True,  True,  True,  True,  True,  True,  True,  True,\n",
              "        True,  True,  True,  True,  True,  True,  True,  True,  True,\n",
              "        True,  True,  True,  True,  True,  True,  True,  True,  True,\n",
              "        True,  True,  True,  True,  True,  True,  True,  True,  True,\n",
              "        True,  True,  True,  True,  True,  True,  True,  True,  True,\n",
              "        True,  True,  True,  True,  True,  True,  True,  True,  True,\n",
              "        True,  True,  True,  True,  True,  True,  True,  True,  True,\n",
              "        True,  True,  True,  True,  True,  True,  True,  True,  True,\n",
              "        True, False, False, False, False, False, False, False, False,\n",
              "       False, False, False, False, False, False, False, False, False,\n",
              "       False, False])"
            ]
          },
          "metadata": {
            "tags": []
          },
          "execution_count": 20
        }
      ]
    },
    {
      "cell_type": "code",
      "metadata": {
        "colab": {
          "base_uri": "https://localhost:8080/"
        },
        "id": "zTE3a-NAg_24",
        "outputId": "a5253e28-8f04-416e-f7e7-44cf6f6a224b"
      },
      "source": [
        "first_ch = np.where(used_channels==True)[0][0]\n",
        "last_ch = np.where(used_channels==True)[0][-1]\n",
        "channels = len(np.where(used_channels==True)[0])\n",
        "channels, first_ch, last_ch"
      ],
      "execution_count": null,
      "outputs": [
        {
          "output_type": "execute_result",
          "data": {
            "text/plain": [
              "(88, 21, 108)"
            ]
          },
          "metadata": {
            "tags": []
          },
          "execution_count": 21
        }
      ]
    },
    {
      "cell_type": "code",
      "metadata": {
        "colab": {
          "base_uri": "https://localhost:8080/",
          "height": 66,
          "referenced_widgets": [
            "a1c5cad93d364091a60f6d1689e5f54f",
            "74f9094244a4476987ccee7698b9c300",
            "2483fb9299314079b0f1ca4f20c7856d",
            "3b2446d502604dfdaf7cdbf245ce6548",
            "fc0b9d9e316647ecad879a58a9127e8f",
            "c4d1a03270eb47dcaae7cfa0c48091ee",
            "19fc7a5c0a874a2488933da9dae3f95f",
            "fcfa373a5d1b47d7ac5e924a02f18425"
          ]
        },
        "id": "2dELUDMD3GFQ",
        "outputId": "ce8aad54-4dd3-4984-96e6-207176ba4e14"
      },
      "source": [
        "for _, row in tqdm(train_data.iterrows(), total=train_data.shape[0]):\n",
        "  midi_pretty_format = pretty_midi.PrettyMIDI('maestro-v3.0.0/' + row['midi_filename'])\n",
        "  piano_midi = midi_pretty_format.instruments[0] # Get the piano channels\n",
        "  piano_roll = piano_midi.get_piano_roll(fs = frequency)[used_channels, cut:-cut]\n",
        "\n",
        "  start = 0\n",
        "  end = midi_length\n",
        "  while end < piano_roll.shape[1]:\n",
        "    #print(end, piano_roll.shape[1])\n",
        "    one_hot = str()\n",
        "    for i in range(0, channels):\n",
        "      if piano_roll[i, end] > 0:\n",
        "        one_hot += '1'\n",
        "      else:\n",
        "        one_hot += '0'\n",
        "    piano_roll_part = piano_roll[:, start: end]\n",
        "    piano_roll_part[piano_roll_part > 0] = 255\n",
        "    img = Image.fromarray(np.uint8(piano_roll_part), 'L')\n",
        "    img.save('data/' + row['midi_filename'].replace('/', '_') + '_[{},{}]___{}.png'.format(start, end, one_hot))\n",
        "\n",
        "    start += data_timestep\n",
        "    end += data_timestep"
      ],
      "execution_count": null,
      "outputs": [
        {
          "output_type": "display_data",
          "data": {
            "application/vnd.jupyter.widget-view+json": {
              "model_id": "a1c5cad93d364091a60f6d1689e5f54f",
              "version_minor": 0,
              "version_major": 2
            },
            "text/plain": [
              "HBox(children=(FloatProgress(value=0.0, max=854.0), HTML(value='')))"
            ]
          },
          "metadata": {
            "tags": []
          }
        },
        {
          "output_type": "stream",
          "text": [
            "\n"
          ],
          "name": "stdout"
        }
      ]
    },
    {
      "cell_type": "code",
      "metadata": {
        "id": "f6ddiPot_pdv"
      },
      "source": [
        "! ls data | wc -l"
      ],
      "execution_count": null,
      "outputs": []
    },
    {
      "cell_type": "code",
      "metadata": {
        "id": "u3ES0a3cNzMp"
      },
      "source": [
        "# For Google Colab\n",
        "#with tarfile.open('data.tar.gz', 'w:gz') as tf:\n",
        "#  tf.add('data')"
      ],
      "execution_count": null,
      "outputs": []
    }
  ]
}